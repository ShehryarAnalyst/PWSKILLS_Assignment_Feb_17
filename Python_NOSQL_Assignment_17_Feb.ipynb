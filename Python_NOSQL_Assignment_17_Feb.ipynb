{
 "cells": [
  {
   "cell_type": "markdown",
   "id": "3acf8cc0",
   "metadata": {},
   "source": [
    "## Assignment Question"
   ]
  },
  {
   "cell_type": "markdown",
   "id": "30cd8822",
   "metadata": {},
   "source": [
    "__Q1. What is MongoDB? Explain non-relational databases in short. In which scenarios it is preferred to use MongoDB over SQL databases?__\n",
    "\n",
    "__Ans)__ MongoDB is a NoSQL database that stores data in a JSON-like format. Non-relational databases, or NoSQL databases, don't use traditional tables with rows and columns. MongoDB is preferred over SQL databases when dealing with large volumes of unstructured data, requiring flexibility and scalability, real-time processing, or an agile development cycle."
   ]
  },
  {
   "cell_type": "markdown",
   "id": "be19652e",
   "metadata": {},
   "source": [
    "__Q2. State and Explain the features of MongoDB ?__\n",
    "\n",
    "__Ans)__ MongoDB is a popular NoSQL document-oriented database system that offers several key features that make it highly attractive for modern application development: <br>\n",
    "\n",
    "* __Document-oriented:__ MongoDB stores data as documents in a JSON-like format. This makes it highly flexible and easy to use, as data can be stored in a format that closely matches the way it will be used in the application.\n",
    "\n",
    "* __Dynamic Schema:__ MongoDB has a flexible schema that allows for changes to the data model without requiring a schema migration. This enables a faster development cycle and greater agility in adapting to changing business requirements.\n",
    "\n",
    "* __Scalability:__ MongoDB is designed to scale horizontally across multiple servers. It can easily handle large volumes of data and high levels of traffic, making it ideal for modern web and mobile applications.\n",
    "\n",
    "* __Indexing:__ MongoDB supports multiple types of indexing, including geospatial indexing, text search, and compound indexing. This allows for fast and efficient querying of data, even in large datasets."
   ]
  },
  {
   "cell_type": "markdown",
   "id": "936b98c8",
   "metadata": {},
   "source": [
    "__Q3. Write a code to connect MongoDB to Python. Also, create a database and a collection in MongoDB.?__\n",
    "\n",
    "__Ans)__ In the code below, we first import the MongoClient class from the pymongo library. We then use this class to connect to the MongoDB server running on the local machine, using the default port 27017.\n",
    "\n",
    "Next, we create a new database called \"mydatabase\" by accessing it through the client object using dictionary-like syntax. Similarly, we create a new collection called \"mycollection\" by accessing it through the mydb object using dictionary-like syntax.\n",
    "\n",
    "Note that the mydatabase and mycollection are not created until we insert data into them."
   ]
  },
  {
   "cell_type": "code",
   "execution_count": null,
   "id": "b2b2329f",
   "metadata": {},
   "outputs": [],
   "source": [
    "# Import the PyMongo library\n",
    "from pymongo import MongoClient\n",
    "\n",
    "# Connect to the MongoDB server\n",
    "client = MongoClient('mongodb://localhost:27017/')\n",
    "\n",
    "# Create a new database called \"mydatabase\"\n",
    "mydb = client['mydatabase']\n",
    "\n",
    "# Create a new collection called \"mycollection\"\n",
    "mycol = mydb['mycollection']\n"
   ]
  },
  {
   "cell_type": "markdown",
   "id": "d7ad6995",
   "metadata": {},
   "source": [
    "__Q4. Using the database and the collection created in question number 3, write a code to insert one record, and insert many records. Use the find() and find_one() methods to print the inserted record ?__\n",
    "\n",
    "__Ans)__ In the code below, we first access the \"mydatabase\" database and \"mycollection\" collection using the client object and [] syntax, as we did in question 3.\n",
    "\n",
    "We then insert one record into the collection using the insert_one() method and a dictionary with key-value pairs representing the data we want to insert. Similarly, we insert multiple records into the collection using the insert_many() method and a list of dictionaries, where each dictionary represents a single record.\n",
    "\n",
    "We then print the inserted record using the find_one() method, which returns the first document in the collection. We also print all inserted records using the find() method, which returns a cursor object that we can iterate over to access each document in the collection."
   ]
  },
  {
   "cell_type": "code",
   "execution_count": null,
   "id": "cd0a3705",
   "metadata": {},
   "outputs": [],
   "source": [
    "# Import the PyMongo library\n",
    "from pymongo import MongoClient\n",
    "\n",
    "# Connect to the MongoDB server\n",
    "client = MongoClient('mongodb://localhost:27017/')\n",
    "\n",
    "# Access the \"mydatabase\" database\n",
    "mydb = client['mydatabase']\n",
    "\n",
    "# Access the \"mycollection\" collection\n",
    "mycol = mydb['mycollection']\n",
    "\n",
    "# Insert one record\n",
    "mydict = { \"name\": \"John\", \"address\": \"Highway 37\" }\n",
    "mycol.insert_one(mydict)\n",
    "\n",
    "# Insert many records\n",
    "mylist = [\n",
    "  { \"name\": \"Amy\", \"address\": \"Apple st 652\"},\n",
    "  { \"name\": \"Hannah\", \"address\": \"Mountain 21\"},\n",
    "  { \"name\": \"Michael\", \"address\": \"Valley 345\"},\n",
    "  { \"name\": \"Sandy\", \"address\": \"Ocean blvd 2\"},\n",
    "  { \"name\": \"Betty\", \"address\": \"Green Grass 1\"},\n",
    "  { \"name\": \"Richard\", \"address\": \"Sky st 331\"}\n",
    "]\n",
    "mycol.insert_many(mylist)\n",
    "\n",
    "# Print the inserted record using find_one()\n",
    "print(mycol.find_one())\n",
    "\n",
    "# Print all inserted records using find()\n",
    "for x in mycol.find():\n",
    "  print(x)\n"
   ]
  },
  {
   "cell_type": "markdown",
   "id": "9aaeb9b4",
   "metadata": {},
   "source": [
    "__Q5. Explain how you can use the find() method to query the MongoDB database. Write a simple code to demonstrate this ?__\n",
    "\n",
    "__Ans)__ The find() method is used to query a MongoDB database collection and retrieve documents that match the specified query criteria. The find() method returns a cursor object that we can iterate over to access each document in the collection that matches the query criteria.\n",
    "\n",
    "The find() method can accept a query parameter, which is a dictionary of key-value pairs that specify the criteria for the query. For example, to find all documents in a collection where the \"name\" field is equal to \"John\", we would use the following query: <br>\n",
    "\n",
    "myquery = { \"name\": \"John\" }<br>\n",
    "mydoc = mycol.find(myquery)<br>\n",
    "\n",
    "\n",
    "In the code above, we create a dictionary called myquery that specifies the query criteria. We then use the find() method to retrieve all documents in the \"mycollection\" collection that match this criteria. The results are stored in the mydoc cursor object, which we can iterate over to access each document."
   ]
  },
  {
   "cell_type": "markdown",
   "id": "2d171d73",
   "metadata": {},
   "source": [
    "__Q6. Explain the sort() method. Give an example to demonstrate sorting in MongoDB ?__\n",
    "\n",
    "__Ans)__ The sort() method in MongoDB is used to sort the results of a query in ascending or descending order based on one or more fields. The sort() method takes a dictionary that specifies the field(s) to sort by and the sort order, with a value of 1 for ascending order and -1 for descending order.\n",
    "\n",
    "Here's an example to demonstrate sorting in MongoDB using the sort() method:<br>"
   ]
  },
  {
   "cell_type": "code",
   "execution_count": null,
   "id": "7ebedec5",
   "metadata": {},
   "outputs": [],
   "source": [
    "# Import the PyMongo library\n",
    "from pymongo import MongoClient\n",
    "\n",
    "# Connect to the MongoDB server\n",
    "client = MongoClient('mongodb://localhost:27017/')\n",
    "\n",
    "# Access the \"mydatabase\" database\n",
    "mydb = client['mydatabase']\n",
    "\n",
    "# Access the \"mycollection\" collection\n",
    "mycol = mydb['mycollection']\n",
    "\n",
    "# Sort documents by name in ascending order\n",
    "mydoc = mycol.find().sort(\"name\", 1)\n",
    "\n",
    "# Print the sorted results\n",
    "for x in mydoc:\n",
    "    print(x)\n"
   ]
  },
  {
   "cell_type": "markdown",
   "id": "2a43603c",
   "metadata": {},
   "source": [
    "__Q7. Explain why delete_one(), delete_many(), and drop() is used.?__\n",
    "\n",
    "__Ans)__ delete_one(), delete_many(), and drop() are methods in MongoDB that are used to remove documents from a collection or to delete an entire collection.\n",
    "\n",
    "* __delete_one()__ is used to delete a single document that matches a specific filter. If multiple documents match the filter, only the first one encountered will be deleted.\n",
    "\n",
    "* __delete_many()__ is used to delete all documents that match a specific filter. This method can be used to delete multiple documents at once.\n",
    "\n",
    "* __drop()__ is used to remove an entire collection from the database. This method permanently deletes all documents and indexes in the collection, so it should be used with caution.\n",
    "\n",
    "In summary, delete_one() and delete_many() are used to remove one or more documents from a collection based on a specific filter, while drop() is used to delete an entire collection."
   ]
  },
  {
   "cell_type": "markdown",
   "id": "de090205",
   "metadata": {},
   "source": [
    "-------------------------------------------------------------------------------------------- __End__----------------------------------------------------------------------------------------------------------------"
   ]
  }
 ],
 "metadata": {
  "kernelspec": {
   "display_name": "Python 3 (ipykernel)",
   "language": "python",
   "name": "python3"
  },
  "language_info": {
   "codemirror_mode": {
    "name": "ipython",
    "version": 3
   },
   "file_extension": ".py",
   "mimetype": "text/x-python",
   "name": "python",
   "nbconvert_exporter": "python",
   "pygments_lexer": "ipython3",
   "version": "3.9.12"
  },
  "varInspector": {
   "cols": {
    "lenName": 16,
    "lenType": 16,
    "lenVar": 40
   },
   "kernels_config": {
    "python": {
     "delete_cmd_postfix": "",
     "delete_cmd_prefix": "del ",
     "library": "var_list.py",
     "varRefreshCmd": "print(var_dic_list())"
    },
    "r": {
     "delete_cmd_postfix": ") ",
     "delete_cmd_prefix": "rm(",
     "library": "var_list.r",
     "varRefreshCmd": "cat(var_dic_list()) "
    }
   },
   "types_to_exclude": [
    "module",
    "function",
    "builtin_function_or_method",
    "instance",
    "_Feature"
   ],
   "window_display": false
  }
 },
 "nbformat": 4,
 "nbformat_minor": 5
}
